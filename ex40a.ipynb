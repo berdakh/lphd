# -*- coding: utf-8 -*-
"""
Created on Thu Apr 19 16:01:06 2018
@author: Berdakh
"""
class Song(object):    
        def __init__(self, lyrics): # contructer 
            # self - instance of a class/object (obj,lyrics)
            self.lyrics = lyrics
        
        def sing_me_a_song(self):   
            for line in self.lyrics:
                print(line)
                
        def print(self):
            print(self.lyrics)
            
#%%
from ex40a import Song
happy_bday = Song(["Happy birthday to you",
                   "I don't want to get sued",
                   "So I will stop right there"])
    
bulls_on_parade = Song(["They rally around the family",
                        "With pockets full of shells"])

happy_bday.sing_me_a_song()
bulls_on_parade.sing_me_a_song()      

#%%
#import image3d, numpy
#h,fig=image3d.image3d(numpy.random.rand(4,111,160),disptype='image')
def outer_func():
    message = 'Hi'    
    def inner_func():
        print(message)        
    return inner_func # returning an object (function) with a built in argument     
outer_func()

#%% 













